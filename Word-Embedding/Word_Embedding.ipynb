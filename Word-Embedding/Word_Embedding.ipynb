{
 "cells": [
  {
   "cell_type": "markdown",
   "metadata": {},
   "source": [
    "# import Libraries"
   ]
  },
  {
   "cell_type": "code",
   "execution_count": 40,
   "metadata": {
    "execution": {
     "iopub.execute_input": "2022-07-28T21:34:49.902646Z",
     "iopub.status.busy": "2022-07-28T21:34:49.902243Z",
     "iopub.status.idle": "2022-07-28T21:34:49.909525Z",
     "shell.execute_reply": "2022-07-28T21:34:49.908758Z",
     "shell.execute_reply.started": "2022-07-28T21:34:49.902617Z"
    }
   },
   "outputs": [],
   "source": [
    "import pandas as pd\n",
    "import numpy as np\n",
    "import re\n",
    "from tqdm import tqdm\n",
    " \n",
    "import nltk\n",
    "en_stop = set(nltk.corpus.stopwords.words('english'))\n",
    " \n",
    "from gensim.models.fasttext import FastText\n",
    " \n",
    "from sklearn.decomposition import PCA\n",
    "from sklearn.manifold import TSNE\n",
    "import seaborn as sns\n",
    "import matplotlib.pyplot as plt\n",
    " \n",
    "# Lemmatization\n",
    "from nltk.stem import WordNetLemmatizer\n",
    "stemmer = WordNetLemmatizer()"
   ]
  },
  {
   "cell_type": "markdown",
   "metadata": {},
   "source": [
    "# 01)Loading Data"
   ]
  },
  {
   "cell_type": "code",
   "execution_count": 41,
   "metadata": {
    "execution": {
     "iopub.execute_input": "2022-07-28T21:34:49.914888Z",
     "iopub.status.busy": "2022-07-28T21:34:49.913770Z",
     "iopub.status.idle": "2022-07-28T21:34:50.002483Z",
     "shell.execute_reply": "2022-07-28T21:34:50.000908Z",
     "shell.execute_reply.started": "2022-07-28T21:34:49.914854Z"
    }
   },
   "outputs": [
    {
     "name": "stdout",
     "output_type": "stream",
     "text": [
      "['user_id', 'business_id', 'text', 'date', 'compliment_count']\n"
     ]
    },
    {
     "data": {
      "text/plain": [
       "user_id             0\n",
       "business_id         0\n",
       "text                0\n",
       "date                0\n",
       "compliment_count    0\n",
       "dtype: int64"
      ]
     },
     "execution_count": 41,
     "metadata": {},
     "output_type": "execute_result"
    }
   ],
   "source": [
    "dataset=pd.read_json(\"../input/yelp-dataset/yelp_academic_dataset_tip.json\",lines=True,nrows=10000) \n",
    "\n",
    "print(list(dataset))\n",
    " \n",
    "# Check for nulls \n",
    "dataset.isnull().sum()"
   ]
  },
  {
   "cell_type": "markdown",
   "metadata": {},
   "source": [
    "### 1.1)Convert text column into list and subset\n"
   ]
  },
  {
   "cell_type": "code",
   "execution_count": 42,
   "metadata": {
    "execution": {
     "iopub.execute_input": "2022-07-28T21:34:50.004990Z",
     "iopub.status.busy": "2022-07-28T21:34:50.004491Z",
     "iopub.status.idle": "2022-07-28T21:34:50.013850Z",
     "shell.execute_reply": "2022-07-28T21:34:50.011932Z",
     "shell.execute_reply.started": "2022-07-28T21:34:50.004964Z"
    }
   },
   "outputs": [
    {
     "data": {
      "text/plain": [
       "['Avengers time with the ladies.',\n",
       " 'They have lots of good deserts and tasty cuban sandwiches',\n",
       " \"It's open even when you think it isn't\",\n",
       " 'Very decent fried chicken',\n",
       " 'Appetizers.. platter special for lunch',\n",
       " 'Chili Cup + Single Cheeseburger with onion, pickle, and relish + Vanilla Coca-Cola...so far.',\n",
       " \"Saturday, Dec 7th 2013, ride Patco's Silver Sleigh w/ Santa & his elves on a decorated train into Center City. Trains leave from Lindenwold at 10am, 11:15am, & 12:30pm, and make all stops. Great for kids!\",\n",
       " 'This is probably the best place in the cool Springs area to watch a game and eat',\n",
       " 'Tacos',\n",
       " 'Starbucks substitute in boring downtown Tampa. Ugh. Never again!']"
      ]
     },
     "execution_count": 42,
     "metadata": {},
     "output_type": "execute_result"
    }
   ],
   "source": [
    "sentences  = dataset['text'].tolist()\n",
    "sentences[0:10]"
   ]
  },
  {
   "cell_type": "markdown",
   "metadata": {},
   "source": [
    "# 02)Cleaning Data"
   ]
  },
  {
   "cell_type": "markdown",
   "metadata": {},
   "source": [
    "### ● Remove white extra space from text\n",
    "### ● Remove all special characters from the text\n",
    "### ● Remove all single characters from the text\n",
    "### ● Convert text to lower case\n",
    "### ● Perform Word tokenization\n",
    "### ● Lemmatization\n",
    "### ● Remove stop words from the text\n",
    "### ● Remove words length less than 3 from text\n"
   ]
  },
  {
   "cell_type": "code",
   "execution_count": 43,
   "metadata": {
    "execution": {
     "iopub.execute_input": "2022-07-28T21:34:50.018432Z",
     "iopub.status.busy": "2022-07-28T21:34:50.017868Z",
     "iopub.status.idle": "2022-07-28T21:34:50.028124Z",
     "shell.execute_reply": "2022-07-28T21:34:50.026807Z",
     "shell.execute_reply.started": "2022-07-28T21:34:50.018400Z"
    }
   },
   "outputs": [],
   "source": [
    "def process_text(document):\n",
    "     \n",
    "            # Remove extra white space from text\n",
    "        document = re.sub(r'\\s+', ' ', document, flags=re.I)\n",
    "         \n",
    "        # Remove all the special characters from text\n",
    "        document = re.sub(r'\\W', ' ', str(document))\n",
    " \n",
    "        # Remove all single characters from text\n",
    "        document = re.sub(r'\\s+[a-zA-Z]\\s+', ' ', document)\n",
    " \n",
    "        # Converting to Lowercase\n",
    "        document = document.lower()\n",
    " \n",
    "        # Word tokenization       \n",
    "        tokens = document.split()\n",
    "        \n",
    "        # Lemmatization using NLTK\n",
    "        lemma_txt = [stemmer.lemmatize(word) for word in tokens]\n",
    "        \n",
    "        # Remove stop words\n",
    "        lemma_no_stop_txt = [word for word in lemma_txt if word not in en_stop]\n",
    "        \n",
    "        # Drop words \n",
    "        tokens = [word for word in tokens if len(word) > 3]\n",
    "                 \n",
    "        clean_txt = ' '.join(lemma_no_stop_txt)\n",
    " \n",
    "        return clean_txt"
   ]
  },
  {
   "cell_type": "code",
   "execution_count": 44,
   "metadata": {
    "execution": {
     "iopub.execute_input": "2022-07-28T21:34:50.040232Z",
     "iopub.status.busy": "2022-07-28T21:34:50.039654Z",
     "iopub.status.idle": "2022-07-28T21:34:51.001572Z",
     "shell.execute_reply": "2022-07-28T21:34:51.000313Z",
     "shell.execute_reply.started": "2022-07-28T21:34:50.040202Z"
    }
   },
   "outputs": [
    {
     "name": "stderr",
     "output_type": "stream",
     "text": [
      "100%|██████████| 10000/10000 [00:00<00:00, 11067.04it/s]\n",
      "100%|██████████| 10000/10000 [00:00<00:00, 275489.76it/s]\n"
     ]
    },
    {
     "data": {
      "text/plain": [
       "[['avenger', 'time', 'lady'],\n",
       " ['lot', 'good', 'desert', 'tasty', 'cuban', 'sandwich'],\n",
       " ['open', 'even', 'think'],\n",
       " ['decent', 'fried', 'chicken'],\n",
       " ['appetizer', 'platter', 'special', 'lunch'],\n",
       " ['chili',\n",
       "  'cup',\n",
       "  'single',\n",
       "  'cheeseburger',\n",
       "  'onion',\n",
       "  'pickle',\n",
       "  'relish',\n",
       "  'vanilla',\n",
       "  'coca',\n",
       "  'cola',\n",
       "  'far'],\n",
       " ['saturday',\n",
       "  'dec',\n",
       "  '7th',\n",
       "  '2013',\n",
       "  'ride',\n",
       "  'patco',\n",
       "  'silver',\n",
       "  'sleigh',\n",
       "  'santa',\n",
       "  'elf',\n",
       "  'decorated',\n",
       "  'train',\n",
       "  'center',\n",
       "  'city',\n",
       "  'train',\n",
       "  'leave',\n",
       "  'lindenwold',\n",
       "  '10am',\n",
       "  '11',\n",
       "  '15am',\n",
       "  '12',\n",
       "  '30pm',\n",
       "  'make',\n",
       "  'stop',\n",
       "  'great',\n",
       "  'kid'],\n",
       " ['probably',\n",
       "  'best',\n",
       "  'place',\n",
       "  'cool',\n",
       "  'spring',\n",
       "  'area',\n",
       "  'watch',\n",
       "  'game',\n",
       "  'eat'],\n",
       " ['taco'],\n",
       " ['starbucks', 'substitute', 'boring', 'downtown', 'tampa', 'ugh', 'never']]"
      ]
     },
     "execution_count": 44,
     "metadata": {},
     "output_type": "execute_result"
    }
   ],
   "source": [
    "clean_data = [process_text(sentence) for sentence in tqdm(sentences) if sentence.strip() !='']\n",
    " \n",
    "word_tokenizer = nltk.WordPunctTokenizer()\n",
    "tokens = [word_tokenizer.tokenize(sent) for sent in tqdm(clean_data)]\n",
    "tokens[0:10]"
   ]
  },
  {
   "cell_type": "markdown",
   "metadata": {},
   "source": [
    "# 03)Train fastText word embeddings"
   ]
  },
  {
   "cell_type": "code",
   "execution_count": 45,
   "metadata": {
    "execution": {
     "iopub.execute_input": "2022-07-28T21:34:51.003672Z",
     "iopub.status.busy": "2022-07-28T21:34:51.003362Z",
     "iopub.status.idle": "2022-07-28T21:34:51.007948Z",
     "shell.execute_reply": "2022-07-28T21:34:51.006876Z",
     "shell.execute_reply.started": "2022-07-28T21:34:51.003646Z"
    }
   },
   "outputs": [],
   "source": [
    "from gensim.models import FastText,Word2Vec"
   ]
  },
  {
   "cell_type": "code",
   "execution_count": 46,
   "metadata": {
    "execution": {
     "iopub.execute_input": "2022-07-28T21:34:51.009047Z",
     "iopub.status.busy": "2022-07-28T21:34:51.008794Z",
     "iopub.status.idle": "2022-07-28T21:35:31.241817Z",
     "shell.execute_reply": "2022-07-28T21:35:31.240617Z",
     "shell.execute_reply.started": "2022-07-28T21:34:51.009015Z"
    }
   },
   "outputs": [],
   "source": [
    "embedding_size = 300\n",
    "window_size = 5\n",
    "min_word = 5\n",
    "down_sampling = 1e-2 \n",
    "\n",
    "fast_text_model = FastText(tokens,\n",
    "                          vector_size = embedding_size,\n",
    "                          window = window_size,\n",
    "                          min_count = min_word,\n",
    "                          sample = down_sampling,\n",
    "                          workers = 4,\n",
    "                          sg = 1,\n",
    "                          epochs = 100)"
   ]
  },
  {
   "cell_type": "code",
   "execution_count": 47,
   "metadata": {
    "execution": {
     "iopub.execute_input": "2022-07-28T21:35:31.244259Z",
     "iopub.status.busy": "2022-07-28T21:35:31.243982Z",
     "iopub.status.idle": "2022-07-28T21:35:36.491829Z",
     "shell.execute_reply": "2022-07-28T21:35:36.490085Z",
     "shell.execute_reply.started": "2022-07-28T21:35:31.244235Z"
    }
   },
   "outputs": [],
   "source": [
    "fast_text_model.save(\"ft_model_yelp_tip\")\n",
    "\n",
    "fast_text_yelp = Word2Vec.load(\"ft_model_yelp_tip\")\n"
   ]
  },
  {
   "cell_type": "code",
   "execution_count": 48,
   "metadata": {
    "execution": {
     "iopub.execute_input": "2022-07-28T21:35:36.496518Z",
     "iopub.status.busy": "2022-07-28T21:35:36.496099Z",
     "iopub.status.idle": "2022-07-28T21:35:36.505437Z",
     "shell.execute_reply": "2022-07-28T21:35:36.504753Z",
     "shell.execute_reply.started": "2022-07-28T21:35:36.496480Z"
    }
   },
   "outputs": [
    {
     "data": {
      "text/plain": [
       "array([-0.01653974, -0.03773461,  0.03464409,  0.36397287, -0.02039647,\n",
       "       -0.15301096,  0.24778615,  0.00916871,  0.23753437,  0.04151576,\n",
       "       -0.25973576,  0.20423518,  0.19751629,  0.07944726, -0.81076604,\n",
       "        0.24295019,  0.6484608 , -0.19346577,  0.40619162, -0.09285652,\n",
       "        0.23333684, -0.14819239,  0.47561622, -0.87343764,  0.28054005,\n",
       "        0.09436356,  0.6163917 ,  0.4550687 ,  0.664683  , -0.32979318,\n",
       "        0.13384   ,  0.02032818, -0.22639307,  0.02965996, -0.68778455,\n",
       "       -0.3137292 , -0.03755936, -0.65860313,  0.23238325,  0.09492116,\n",
       "        0.02231728,  0.07025815, -0.04175163, -0.21609792, -0.12629107,\n",
       "        0.15923826,  0.14595275, -0.21567701, -0.85021067,  0.43311438,\n",
       "       -0.04952186,  0.40883595, -0.25776017, -0.06186022,  0.08260721,\n",
       "        0.35837555,  0.19366989,  0.0249474 , -0.68194795, -0.05212419,\n",
       "       -0.13624516, -0.42034242,  0.36592653,  0.5438809 , -0.04414659,\n",
       "       -0.25712875,  0.16742678,  0.38056734,  0.07705843,  0.14302096,\n",
       "        0.12342883, -0.13906825,  0.02803828, -0.37634572, -0.00888373,\n",
       "        0.05049671,  0.1276381 ,  0.12524739, -0.22346237,  0.55576086,\n",
       "       -0.03973356, -0.538781  , -0.13361101,  0.42524844, -0.03250489,\n",
       "        0.13747528, -0.5061319 ,  0.15223144, -0.02049624,  0.21653329,\n",
       "        0.31523496, -0.19798277, -0.34718865, -0.58809626,  0.01207159,\n",
       "       -0.20191082, -0.03181267,  0.05054857,  0.21476431,  0.10678196,\n",
       "       -0.04399326,  0.0174982 , -0.13641655,  0.1578435 , -0.46228027,\n",
       "       -0.20924291, -0.3543022 , -0.6810983 ,  0.31949177, -0.19362475,\n",
       "       -0.12150176,  0.16323626, -0.0211772 , -0.38880074, -0.41072983,\n",
       "        0.15114863, -0.03587836, -0.0743813 ,  0.08213368,  0.4234228 ,\n",
       "       -0.67142576,  0.03647866,  0.33878085, -0.15696725, -0.24693477,\n",
       "        0.41527995, -0.28258792,  0.5646427 , -0.11806637,  0.40389588,\n",
       "        0.1404456 ,  0.02847436,  0.2685627 ,  0.01747305, -0.43426648,\n",
       "       -0.13031484, -0.18083815,  0.03800017, -0.26483852, -0.02422769,\n",
       "       -0.16201057,  0.09505735,  0.14079246, -0.465159  , -0.44385013,\n",
       "       -0.3371317 ,  0.2666704 , -0.12072696, -0.39094123, -0.37516823,\n",
       "        0.14193536,  0.01298913,  0.22712536, -0.03730109, -0.6417186 ,\n",
       "       -0.16771157, -0.4748045 , -0.524243  ,  0.07937263, -0.15787965,\n",
       "        0.32876897, -0.1725473 ,  0.36962467,  0.17496414,  0.59963775,\n",
       "       -0.2026335 ,  0.28053084,  0.14812092, -0.2883666 , -0.17729263,\n",
       "       -0.2837885 , -0.10418209, -0.28031358, -0.10892458, -0.2895696 ,\n",
       "       -0.04310875, -0.4923733 , -0.43252552, -0.02516946,  0.34278688,\n",
       "       -0.11416038, -0.02025196,  0.07282249,  0.23626041, -0.44137004,\n",
       "        0.18002   ,  0.2883748 ,  0.02632586, -0.06836361,  0.16953939,\n",
       "        0.00373856,  0.16209571,  0.17965418, -0.02417729, -0.08622213,\n",
       "        0.03084571,  0.02588312, -0.14185086, -0.08600437, -0.2903476 ,\n",
       "       -0.18049246, -0.70685536,  0.07612161,  0.30108666, -0.11264386,\n",
       "       -0.19310507,  0.14427899, -0.56273836,  0.46774608, -0.10609411,\n",
       "        0.01381843, -0.29463682, -0.40540507, -0.26535818, -0.17546406,\n",
       "       -0.6872326 , -0.5048624 , -0.00007972,  0.05755   ,  0.20527907,\n",
       "        0.28228027, -0.21030547, -0.5499244 , -0.0507976 ,  0.6444357 ,\n",
       "        0.00937978,  0.6193653 ,  0.10079127, -0.4707849 , -0.258831  ,\n",
       "        0.77753484, -0.19276184, -0.587852  , -0.05238299,  0.08519349,\n",
       "        0.23953046, -0.12253501,  0.12752381,  0.1988902 , -0.2808771 ,\n",
       "        0.04657174,  0.45040512, -0.30554092, -0.1517013 ,  0.18059845,\n",
       "       -0.6044067 , -0.19356701,  0.4507227 , -0.20618688,  0.11910643,\n",
       "       -0.21699004,  0.076441  , -0.00690261, -0.6410094 , -0.08868395,\n",
       "        0.32893804,  0.6086761 ,  0.12782548, -0.186204  , -0.65288377,\n",
       "       -0.03140966, -0.24181023,  0.10524485,  0.17667592, -0.0256837 ,\n",
       "        0.19447835, -0.01026305,  0.91359156,  0.18027113,  0.4060523 ,\n",
       "       -0.79100984, -0.42549676, -0.28063318,  0.08510866, -0.38502938,\n",
       "        0.12453739,  0.14215474, -0.15639026, -0.2118474 ,  0.44188216,\n",
       "        0.02382604,  0.6116967 ,  0.38362744, -0.13419525,  0.14043559,\n",
       "       -0.19238669, -0.04288381,  0.24560255, -0.10272493, -0.25765523,\n",
       "        0.12651032, -0.14666395,  0.44747308,  0.32415652,  0.18332036,\n",
       "       -0.01146441,  0.13915469,  0.3091025 , -0.13345012, -0.14573695],\n",
       "      dtype=float32)"
      ]
     },
     "execution_count": 48,
     "metadata": {},
     "output_type": "execute_result"
    }
   ],
   "source": [
    "fast_text_yelp.wv['chicken']"
   ]
  },
  {
   "cell_type": "code",
   "execution_count": 49,
   "metadata": {
    "execution": {
     "iopub.execute_input": "2022-07-28T21:35:36.507371Z",
     "iopub.status.busy": "2022-07-28T21:35:36.506443Z",
     "iopub.status.idle": "2022-07-28T21:35:37.561475Z",
     "shell.execute_reply": "2022-07-28T21:35:37.560720Z",
     "shell.execute_reply.started": "2022-07-28T21:35:36.507337Z"
    }
   },
   "outputs": [
    {
     "data": {
      "text/plain": [
       "0.19090495"
      ]
     },
     "execution_count": 49,
     "metadata": {},
     "output_type": "execute_result"
    }
   ],
   "source": [
    "fast_text_yelp.wv.similarity('tree','forest')"
   ]
  },
  {
   "cell_type": "code",
   "execution_count": 50,
   "metadata": {
    "execution": {
     "iopub.execute_input": "2022-07-28T21:35:37.563352Z",
     "iopub.status.busy": "2022-07-28T21:35:37.562844Z",
     "iopub.status.idle": "2022-07-28T21:35:38.344321Z",
     "shell.execute_reply": "2022-07-28T21:35:38.343353Z",
     "shell.execute_reply.started": "2022-07-28T21:35:37.563320Z"
    }
   },
   "outputs": [
    {
     "data": {
      "text/plain": [
       "[('stopped', 0.4857913553714752),\n",
       " ('top', 0.4363531470298767),\n",
       " ('stomach', 0.34962475299835205),\n",
       " ('85', 0.3394307792186737),\n",
       " ('stone', 0.31769564747810364),\n",
       " ('courtyard', 0.3124639391899109),\n",
       " ('stout', 0.3117237389087677),\n",
       " ('security', 0.30796095728874207),\n",
       " ('previous', 0.3032481372356415),\n",
       " ('nephew', 0.3023715615272522)]"
      ]
     },
     "execution_count": 50,
     "metadata": {},
     "output_type": "execute_result"
    }
   ],
   "source": [
    "fast_text_yelp.wv.most_similar(positive=[\"stop\"])"
   ]
  },
  {
   "cell_type": "markdown",
   "metadata": {},
   "source": [
    "# 04)visualization FastText word embeddings using tsne"
   ]
  },
  {
   "cell_type": "code",
   "execution_count": 51,
   "metadata": {
    "execution": {
     "iopub.execute_input": "2022-07-28T21:35:38.346708Z",
     "iopub.status.busy": "2022-07-28T21:35:38.346089Z",
     "iopub.status.idle": "2022-07-28T21:35:39.124516Z",
     "shell.execute_reply": "2022-07-28T21:35:39.123621Z",
     "shell.execute_reply.started": "2022-07-28T21:35:38.346670Z"
    }
   },
   "outputs": [],
   "source": [
    "\n",
    "def tsne_plot(for_word, w2v_model):\n",
    "    \n",
    "    # trained fastText model dimention\n",
    "    dim_size = w2v_model.wv.vectors.shape[1]\n",
    " \n",
    "    arrays = np.empty((0, dim_size), dtype='f')\n",
    "    word_labels = [for_word]\n",
    "    color_list  = ['red']\n",
    " \n",
    "    # adds the vector of the query word\n",
    "    arrays = np.append(arrays, w2v_model.wv.__getitem__([for_word]), axis=0)\n",
    " \n",
    "    # gets list of most similar words\n",
    "    sim_words = w2v_model.wv.most_similar(for_word, topn=10)\n",
    " \n",
    "    # adds the vector for each of the closest words to the array\n",
    "    for wrd_score in sim_words:\n",
    "        wrd_vector = w2v_model.wv.__getitem__([wrd_score[0]])\n",
    "        word_labels.append(wrd_score[0])\n",
    "        color_list.append('green')\n",
    "        arrays = np.append(arrays, wrd_vector, axis=0)\n",
    " \n",
    "    # fit 2d PCA model to the similar word vectors\n",
    "    model_pca = PCA(n_components = 10).fit_transform(arrays)\n",
    " \n",
    "    # Finds 2d coordinates t-SNE\n",
    "    np.set_printoptions(suppress=True)\n",
    "    Y = TSNE(n_components=2, random_state=0, perplexity=15).fit_transform(model_pca)\n",
    " \n",
    "    # Sets everything up to plot\n",
    "    df_plot = pd.DataFrame({'x': [x for x in Y[:, 0]],\n",
    "                       'y': [y for y in Y[:, 1]],\n",
    "                       'words_name': word_labels,\n",
    "                       'words_color': color_list})\n",
    " \n",
    "    # plot dots with color and position\n",
    "    plot_dot = sns.regplot(data=df_plot,\n",
    "                     x=\"x\",\n",
    "                     y=\"y\",\n",
    "                     fit_reg=False,\n",
    "                     marker=\"o\",\n",
    "                     scatter_kws={'s': 40,\n",
    "                                  'facecolors': df_plot['words_color']\n",
    "                                 }\n",
    "                    )\n",
    " \n",
    "    # Adds annotations with color one by one with a loop\n",
    "    for line in range(0, df_plot.shape[0]):\n",
    "         plot_dot.text(df_plot[\"x\"][line],\n",
    "                 df_plot['y'][line],\n",
    "                 '  ' + df_plot[\"words_name\"][line].title(),\n",
    "                 horizontalalignment='left',\n",
    "                 verticalalignment='bottom', size='medium',\n",
    "                 color=df_plot['words_color'][line],\n",
    "                 weight='normal'\n",
    "                ).set_size(15)\n",
    " \n",
    " \n",
    "    plt.xlim(Y[:, 0].min()-50, Y[:, 0].max()+50)\n",
    "    plt.ylim(Y[:, 1].min()-50, Y[:, 1].max()+50)\n",
    " \n",
    "    plt.title('t-SNE visualization for word \"{}'.format(for_word.title()) +'\"')"
   ]
  },
  {
   "cell_type": "code",
   "execution_count": 59,
   "metadata": {
    "execution": {
     "iopub.execute_input": "2022-07-28T21:38:07.180856Z",
     "iopub.status.busy": "2022-07-28T21:38:07.180441Z",
     "iopub.status.idle": "2022-07-28T21:38:07.601491Z",
     "shell.execute_reply": "2022-07-28T21:38:07.600290Z",
     "shell.execute_reply.started": "2022-07-28T21:38:07.180825Z"
    }
   },
   "outputs": [
    {
     "name": "stderr",
     "output_type": "stream",
     "text": [
      "/opt/conda/lib/python3.7/site-packages/sklearn/manifold/_t_sne.py:783: FutureWarning: The default initialization in TSNE will change from 'random' to 'pca' in 1.2.\n",
      "  FutureWarning,\n",
      "/opt/conda/lib/python3.7/site-packages/sklearn/manifold/_t_sne.py:793: FutureWarning: The default learning rate in TSNE will change from 200.0 to 'auto' in 1.2.\n",
      "  FutureWarning,\n"
     ]
    },
    {
     "data": {
      "image/png": "[encoded data removed]",
      "text/plain": [
       "<Figure size 432x288 with 1 Axes>"
      ]
     },
     "metadata": {
      "needs_background": "light"
     },
     "output_type": "display_data"
    }
   ],
   "source": [
    "tsne_plot(for_word='tree', w2v_model=fast_text_yelp)"
   ]
  }
 ],
 "metadata": {
  "kernelspec": {
   "display_name": "Python 3",
   "language": "python",
   "name": "python3"
  },
  "language_info": {
   "codemirror_mode": {
    "name": "ipython",
    "version": 3
   },
   "file_extension": ".py",
   "mimetype": "text/x-python",
   "name": "python",
   "nbconvert_exporter": "python",
   "pygments_lexer": "ipython3",
   "version": "3.8.3"
  }
 },
 "nbformat": 4,
 "nbformat_minor": 4
}
